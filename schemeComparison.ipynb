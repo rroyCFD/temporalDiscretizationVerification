{
 "cells": [
  {
   "cell_type": "markdown",
   "metadata": {},
   "source": [
    "## Comparison of temporal discretization schemes in OpenFOAM\n"
   ]
  },
  {
   "cell_type": "markdown",
   "metadata": {},
   "source": [
    "### 1D scalar transport equation\n",
    "\n",
    "\\begin{aligned}\n",
    "\\frac{\\partial \\phi}{\\partial t} + U \\frac{\\partial \\phi}{\\partial x} &= 0 \\\\\n",
    "\\phi_{x=0} & = sin(2 \\pi y) \\\\\n",
    "U & = (1,0,0)\n",
    "\\end{aligned}"
   ]
  },
  {
   "cell_type": "markdown",
   "metadata": {},
   "source": [
    "### Discretizations schemes for uniform timestep\n",
    "\n",
    "\\begin{aligned}\n",
    "\\text{ Euler implicit} \\quad & \\frac{\\partial \\phi}{\\partial t} = \\frac{\\phi -\\phi_0}{\\Delta t} \\\\\n",
    "\\text{ backward (SOU)} \\quad & \\frac{\\partial \\phi}{\\partial t} = \\frac{3\\phi -4\\phi_0 + \\phi_{00}}{2 \\Delta t} \\\\\n",
    "\\text{ Crank Nicolson (OpenFOAM)} \\quad & \\frac{\\partial \\phi}{\\partial t} = 2* \\frac{\\phi -\\phi_0}{\\Delta t} -  \\frac{\\partial \\phi_{0}}{\\partial t} \\\\\n",
    "\\text{ Crank Nicolson (Modified)} \\quad & \\frac{\\partial \\phi}{\\partial t} = \\frac{\\phi -\\phi_{00}}{2 \\Delta t}\n",
    "\\end{aligned}"
   ]
  },
  {
   "cell_type": "markdown",
   "metadata": {},
   "source": [
    "### Comparison\n",
    "<img src=\"./temporalSchemeComparison.png\">"
   ]
  }
 ],
 "metadata": {
  "kernelspec": {
   "display_name": "Python 3",
   "language": "python",
   "name": "python3"
  },
  "language_info": {
   "codemirror_mode": {
    "name": "ipython",
    "version": 3
   },
   "file_extension": ".py",
   "mimetype": "text/x-python",
   "name": "python",
   "nbconvert_exporter": "python",
   "pygments_lexer": "ipython3",
   "version": "3.6.9"
  }
 },
 "nbformat": 4,
 "nbformat_minor": 2
}
